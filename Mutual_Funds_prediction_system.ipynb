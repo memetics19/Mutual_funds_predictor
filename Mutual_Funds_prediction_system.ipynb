{
  "nbformat": 4,
  "nbformat_minor": 0,
  "metadata": {
    "colab": {
      "name": "Mutual Funds prediction system.ipynb",
      "provenance": [],
      "collapsed_sections": [],
      "authorship_tag": "ABX9TyMg0DvYx41kUF7qWvxUsSBB",
      "include_colab_link": true
    },
    "kernelspec": {
      "name": "python3",
      "display_name": "Python 3"
    }
  },
  "cells": [
    {
      "cell_type": "markdown",
      "metadata": {
        "id": "view-in-github",
        "colab_type": "text"
      },
      "source": [
        "<a href=\"https://colab.research.google.com/github/memetics19/Mutual_funds_predictor/blob/master/Mutual_Funds_prediction_system.ipynb\" target=\"_parent\"><img src=\"https://colab.research.google.com/assets/colab-badge.svg\" alt=\"Open In Colab\"/></a>"
      ]
    },
    {
      "cell_type": "code",
      "metadata": {
        "id": "oQlAe428feFn",
        "colab_type": "code",
        "colab": {
          "base_uri": "https://localhost:8080/",
          "height": 291
        },
        "outputId": "430986ca-85ba-4b89-a16f-cbec23c11000"
      },
      "source": [
        "!pip install quandl\n",
        "!pip install pycurl\n",
        "import pandas_datareader as pdr\n",
        "import pandas as pd\n",
        "import json \n",
        "import quandl\n",
        "import datetime\n",
        "import requests \n",
        "import pycurl"
      ],
      "execution_count": 62,
      "outputs": [
        {
          "output_type": "stream",
          "text": [
            "Requirement already satisfied: quandl in /usr/local/lib/python3.6/dist-packages (3.5.0)\n",
            "Requirement already satisfied: inflection>=0.3.1 in /usr/local/lib/python3.6/dist-packages (from quandl) (0.3.1)\n",
            "Requirement already satisfied: requests>=2.7.0 in /usr/local/lib/python3.6/dist-packages (from quandl) (2.21.0)\n",
            "Requirement already satisfied: pandas>=0.14 in /usr/local/lib/python3.6/dist-packages (from quandl) (0.25.3)\n",
            "Requirement already satisfied: numpy>=1.8 in /usr/local/lib/python3.6/dist-packages (from quandl) (1.17.5)\n",
            "Requirement already satisfied: six in /usr/local/lib/python3.6/dist-packages (from quandl) (1.12.0)\n",
            "Requirement already satisfied: more-itertools in /usr/local/lib/python3.6/dist-packages (from quandl) (8.2.0)\n",
            "Requirement already satisfied: python-dateutil in /usr/local/lib/python3.6/dist-packages (from quandl) (2.6.1)\n",
            "Requirement already satisfied: chardet<3.1.0,>=3.0.2 in /usr/local/lib/python3.6/dist-packages (from requests>=2.7.0->quandl) (3.0.4)\n",
            "Requirement already satisfied: certifi>=2017.4.17 in /usr/local/lib/python3.6/dist-packages (from requests>=2.7.0->quandl) (2019.11.28)\n",
            "Requirement already satisfied: idna<2.9,>=2.5 in /usr/local/lib/python3.6/dist-packages (from requests>=2.7.0->quandl) (2.8)\n",
            "Requirement already satisfied: urllib3<1.25,>=1.21.1 in /usr/local/lib/python3.6/dist-packages (from requests>=2.7.0->quandl) (1.24.3)\n",
            "Requirement already satisfied: pytz>=2017.2 in /usr/local/lib/python3.6/dist-packages (from pandas>=0.14->quandl) (2018.9)\n",
            "Requirement already satisfied: pycurl in /usr/local/lib/python3.6/dist-packages (7.43.0.5)\n"
          ],
          "name": "stdout"
        }
      ]
    },
    {
      "cell_type": "code",
      "metadata": {
        "id": "rJ_CYou3gGkQ",
        "colab_type": "code",
        "colab": {}
      },
      "source": [
        "quandl=quandl.get(\"XBOM/500010\", authtoken=\"nFMeyzefakfpgRcPvwue\")\n",
        "quandl.to_csv('AMFI.csv')\n",
        "df = pd.read_csv('AMFI.csv', header=0, parse_dates=True)"
      ],
      "execution_count": 0,
      "outputs": []
    },
    {
      "cell_type": "code",
      "metadata": {
        "id": "kqoZYlGgt0kt",
        "colab_type": "code",
        "colab": {
          "base_uri": "https://localhost:8080/",
          "height": 181
        },
        "outputId": "df300c9f-5da5-42f2-e235-7f02108d2b96"
      },
      "source": [
        "df.isnull().sum()/len(df)*100"
      ],
      "execution_count": 64,
      "outputs": [
        {
          "output_type": "execute_result",
          "data": {
            "text/plain": [
              "Date                  0.000000\n",
              "Open                  0.000000\n",
              "High                  0.000000\n",
              "Low                   0.000000\n",
              "Close                 0.000000\n",
              "Volume                0.000000\n",
              "Adjustment Factor    99.446101\n",
              "Adjustment Type      99.446101\n",
              "dtype: float64"
            ]
          },
          "metadata": {
            "tags": []
          },
          "execution_count": 64
        }
      ]
    },
    {
      "cell_type": "code",
      "metadata": {
        "id": "eZ9s7MB8Am_g",
        "colab_type": "code",
        "colab": {}
      },
      "source": [
        "x=df.drop(['Adjustment Factor','Adjustment Type','Volume'],axis=1)\n",
        "y=df['Volume']"
      ],
      "execution_count": 0,
      "outputs": []
    },
    {
      "cell_type": "code",
      "metadata": {
        "id": "GD_h3dp7Ik1X",
        "colab_type": "code",
        "colab": {
          "base_uri": "https://localhost:8080/",
          "height": 457
        },
        "outputId": "d839eca2-fd80-4a2f-9f78-def42f29fcbc"
      },
      "source": [
        "df.dropna(axis=0)"
      ],
      "execution_count": 66,
      "outputs": [
        {
          "output_type": "execute_result",
          "data": {
            "text/html": [
              "<div>\n",
              "<style scoped>\n",
              "    .dataframe tbody tr th:only-of-type {\n",
              "        vertical-align: middle;\n",
              "    }\n",
              "\n",
              "    .dataframe tbody tr th {\n",
              "        vertical-align: top;\n",
              "    }\n",
              "\n",
              "    .dataframe thead th {\n",
              "        text-align: right;\n",
              "    }\n",
              "</style>\n",
              "<table border=\"1\" class=\"dataframe\">\n",
              "  <thead>\n",
              "    <tr style=\"text-align: right;\">\n",
              "      <th></th>\n",
              "      <th>Date</th>\n",
              "      <th>Open</th>\n",
              "      <th>High</th>\n",
              "      <th>Low</th>\n",
              "      <th>Close</th>\n",
              "      <th>Volume</th>\n",
              "      <th>Adjustment Factor</th>\n",
              "      <th>Adjustment Type</th>\n",
              "    </tr>\n",
              "  </thead>\n",
              "  <tbody>\n",
              "    <tr>\n",
              "      <th>127</th>\n",
              "      <td>2010-06-29</td>\n",
              "      <td>529.145880</td>\n",
              "      <td>529.145880</td>\n",
              "      <td>520.350763</td>\n",
              "      <td>521.888560</td>\n",
              "      <td>205015.0</td>\n",
              "      <td>0.987837</td>\n",
              "      <td>17.0</td>\n",
              "    </tr>\n",
              "    <tr>\n",
              "      <th>163</th>\n",
              "      <td>2010-08-18</td>\n",
              "      <td>550.369270</td>\n",
              "      <td>560.486353</td>\n",
              "      <td>535.935566</td>\n",
              "      <td>558.642795</td>\n",
              "      <td>407367.0</td>\n",
              "      <td>0.200000</td>\n",
              "      <td>5.0</td>\n",
              "    </tr>\n",
              "    <tr>\n",
              "      <th>383</th>\n",
              "      <td>2011-06-22</td>\n",
              "      <td>583.183547</td>\n",
              "      <td>589.157667</td>\n",
              "      <td>579.398417</td>\n",
              "      <td>586.968676</td>\n",
              "      <td>83868.0</td>\n",
              "      <td>0.985985</td>\n",
              "      <td>17.0</td>\n",
              "    </tr>\n",
              "    <tr>\n",
              "      <th>645</th>\n",
              "      <td>2012-06-22</td>\n",
              "      <td>590.104320</td>\n",
              "      <td>595.671341</td>\n",
              "      <td>587.599160</td>\n",
              "      <td>593.490924</td>\n",
              "      <td>48121.0</td>\n",
              "      <td>0.983017</td>\n",
              "      <td>17.0</td>\n",
              "    </tr>\n",
              "    <tr>\n",
              "      <th>909</th>\n",
              "      <td>2013-06-27</td>\n",
              "      <td>767.964287</td>\n",
              "      <td>794.065650</td>\n",
              "      <td>765.891255</td>\n",
              "      <td>788.788840</td>\n",
              "      <td>141053.0</td>\n",
              "      <td>0.984664</td>\n",
              "      <td>17.0</td>\n",
              "    </tr>\n",
              "    <tr>\n",
              "      <th>1175</th>\n",
              "      <td>2014-07-04</td>\n",
              "      <td>953.061605</td>\n",
              "      <td>968.972244</td>\n",
              "      <td>949.239230</td>\n",
              "      <td>964.528732</td>\n",
              "      <td>63106.0</td>\n",
              "      <td>0.986075</td>\n",
              "      <td>17.0</td>\n",
              "    </tr>\n",
              "    <tr>\n",
              "      <th>1363</th>\n",
              "      <td>2015-03-25</td>\n",
              "      <td>1296.737302</td>\n",
              "      <td>1322.097847</td>\n",
              "      <td>1282.382276</td>\n",
              "      <td>1297.024402</td>\n",
              "      <td>120080.0</td>\n",
              "      <td>0.998529</td>\n",
              "      <td>17.0</td>\n",
              "    </tr>\n",
              "    <tr>\n",
              "      <th>1628</th>\n",
              "      <td>2016-03-30</td>\n",
              "      <td>1076.620019</td>\n",
              "      <td>1084.392409</td>\n",
              "      <td>1066.256831</td>\n",
              "      <td>1070.430893</td>\n",
              "      <td>317666.0</td>\n",
              "      <td>0.997340</td>\n",
              "      <td>17.0</td>\n",
              "    </tr>\n",
              "    <tr>\n",
              "      <th>1705</th>\n",
              "      <td>2016-07-15</td>\n",
              "      <td>1287.780402</td>\n",
              "      <td>1323.174969</td>\n",
              "      <td>1283.465174</td>\n",
              "      <td>1319.053684</td>\n",
              "      <td>190834.0</td>\n",
              "      <td>0.989523</td>\n",
              "      <td>17.0</td>\n",
              "    </tr>\n",
              "    <tr>\n",
              "      <th>1874</th>\n",
              "      <td>2017-03-09</td>\n",
              "      <td>1338.086842</td>\n",
              "      <td>1343.091851</td>\n",
              "      <td>1326.035945</td>\n",
              "      <td>1332.644502</td>\n",
              "      <td>31078.0</td>\n",
              "      <td>0.997806</td>\n",
              "      <td>17.0</td>\n",
              "    </tr>\n",
              "    <tr>\n",
              "      <th>1965</th>\n",
              "      <td>2017-07-14</td>\n",
              "      <td>1608.394397</td>\n",
              "      <td>1618.201680</td>\n",
              "      <td>1606.432941</td>\n",
              "      <td>1616.534442</td>\n",
              "      <td>22069.0</td>\n",
              "      <td>0.990944</td>\n",
              "      <td>17.0</td>\n",
              "    </tr>\n",
              "    <tr>\n",
              "      <th>2144</th>\n",
              "      <td>2018-03-22</td>\n",
              "      <td>1786.892902</td>\n",
              "      <td>1805.562666</td>\n",
              "      <td>1771.760568</td>\n",
              "      <td>1777.115842</td>\n",
              "      <td>120562.0</td>\n",
              "      <td>0.998076</td>\n",
              "      <td>17.0</td>\n",
              "    </tr>\n",
              "    <tr>\n",
              "      <th>2229</th>\n",
              "      <td>2018-07-19</td>\n",
              "      <td>1990.435482</td>\n",
              "      <td>1991.426241</td>\n",
              "      <td>1958.731184</td>\n",
              "      <td>1970.917523</td>\n",
              "      <td>45350.0</td>\n",
              "      <td>0.991784</td>\n",
              "      <td>17.0</td>\n",
              "    </tr>\n",
              "  </tbody>\n",
              "</table>\n",
              "</div>"
            ],
            "text/plain": [
              "            Date         Open  ...  Adjustment Factor  Adjustment Type\n",
              "127   2010-06-29   529.145880  ...           0.987837             17.0\n",
              "163   2010-08-18   550.369270  ...           0.200000              5.0\n",
              "383   2011-06-22   583.183547  ...           0.985985             17.0\n",
              "645   2012-06-22   590.104320  ...           0.983017             17.0\n",
              "909   2013-06-27   767.964287  ...           0.984664             17.0\n",
              "1175  2014-07-04   953.061605  ...           0.986075             17.0\n",
              "1363  2015-03-25  1296.737302  ...           0.998529             17.0\n",
              "1628  2016-03-30  1076.620019  ...           0.997340             17.0\n",
              "1705  2016-07-15  1287.780402  ...           0.989523             17.0\n",
              "1874  2017-03-09  1338.086842  ...           0.997806             17.0\n",
              "1965  2017-07-14  1608.394397  ...           0.990944             17.0\n",
              "2144  2018-03-22  1786.892902  ...           0.998076             17.0\n",
              "2229  2018-07-19  1990.435482  ...           0.991784             17.0\n",
              "\n",
              "[13 rows x 8 columns]"
            ]
          },
          "metadata": {
            "tags": []
          },
          "execution_count": 66
        }
      ]
    },
    {
      "cell_type": "code",
      "metadata": {
        "id": "Tt_S92NiJk0h",
        "colab_type": "code",
        "colab": {
          "base_uri": "https://localhost:8080/",
          "height": 271
        },
        "outputId": "22b3e343-382e-485c-8f5b-3be2b065c134"
      },
      "source": [
        "df['diff']=df.Open-df.Close\n",
        "print(df)"
      ],
      "execution_count": 67,
      "outputs": [
        {
          "output_type": "stream",
          "text": [
            "            Date         Open  ...  Adjustment Type       diff\n",
            "0     2010-01-01   475.777931  ...              NaN   0.000000\n",
            "1     2010-01-04   476.337596  ...              NaN   1.474674\n",
            "2     2010-01-05   479.891028  ...              NaN   3.446829\n",
            "3     2010-01-06   479.891028  ...              NaN   1.847784\n",
            "4     2010-01-07   478.114312  ...              NaN   8.110709\n",
            "...          ...          ...  ...              ...        ...\n",
            "2342  2018-12-25  1884.374696  ...              NaN   0.000000\n",
            "2343  2018-12-26  1890.368790  ...              NaN -26.205584\n",
            "2344  2018-12-27  1932.971441  ...              NaN   4.309803\n",
            "2345  2018-12-28  1938.222466  ...              NaN -23.580072\n",
            "2346  2018-12-31  1975.574092  ...              NaN  23.778224\n",
            "\n",
            "[2347 rows x 9 columns]\n"
          ],
          "name": "stdout"
        }
      ]
    }
  ]
}